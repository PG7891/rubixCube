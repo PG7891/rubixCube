{
 "cells": [
  {
   "cell_type": "code",
   "execution_count": null,
   "id": "initial_id",
   "metadata": {
    "ExecuteTime": {
     "end_time": "2024-01-11T20:04:48.001523Z",
     "start_time": "2024-01-11T20:04:47.998401Z"
    },
    "collapsed": true
   },
   "outputs": [
    {
     "ename": "ModuleNotFoundError",
     "evalue": "No module named 'gym'",
     "output_type": "error",
     "traceback": [
      "\u001b[0;31m---------------------------------------------------------------------------\u001b[0m",
      "\u001b[0;31mModuleNotFoundError\u001b[0m                       Traceback (most recent call last)",
      "Cell \u001b[0;32mIn[9], line 1\u001b[0m\n\u001b[0;32m----> 1\u001b[0m \u001b[38;5;28;01mfrom\u001b[39;00m \u001b[38;5;21;01mgym\u001b[39;00m \u001b[38;5;28;01mimport\u001b[39;00m Env\n\u001b[1;32m      2\u001b[0m \u001b[38;5;28;01mfrom\u001b[39;00m \u001b[38;5;21;01mgym\u001b[39;00m\u001b[38;5;21;01m.\u001b[39;00m\u001b[38;5;21;01mspaces\u001b[39;00m \u001b[38;5;28;01mimport\u001b[39;00m Discrete, Box\n\u001b[1;32m      3\u001b[0m \u001b[38;5;28;01mimport\u001b[39;00m \u001b[38;5;21;01mnumpy\u001b[39;00m \u001b[38;5;28;01mas\u001b[39;00m \u001b[38;5;21;01mnp\u001b[39;00m\n",
      "\u001b[0;31mModuleNotFoundError\u001b[0m: No module named 'gym'"
     ]
    }
   ],
   "source": [
    "from gym import Env\n",
    "from gym.spaces import Discrete, Box\n",
    "import numpy as np\n",
    "import random\n",
    "import matplotlib.pyplot as plt\n",
    "from matplotlib.patches import Rectangle\n",
    "import copy"
   ]
  },
  {
   "cell_type": "code",
   "execution_count": null,
   "metadata": {},
   "outputs": [],
   "source": [
    "def solvedCube(size):\n",
    "    def initalizeFace(color):\n",
    "            result = np.zeros((size, size))\n",
    "            result.fill(color)\n",
    "            return result\n",
    "        \n",
    "    build = []\n",
    "\n",
    "    for i in range(6):\n",
    "        build.append(initalizeFace(i))\n",
    "\n",
    "    return np.array(build)\n",
    "\n",
    "def mixCube(cube, amount):\n",
    "    for i in range(amount):\n",
    "        rand = random.randint(0, 1)\n",
    "        if rand == 0:\n",
    "            rand = random.randint(0, 1)\n",
    "            if rand == 0:\n",
    "                cube.turnCube(True)\n",
    "            else:\n",
    "                cube.turnCube(False)\n",
    "        else:\n",
    "            rand = random.randint(0, cube.size-1)\n",
    "            cube.makeMove(rand)\n",
    "\n",
    "def checkSolved(cube):\n",
    "    def allEqual(face):\n",
    "        res = np.all(face == face[0, 0])\n",
    "        return res\n",
    "    \n",
    "    solved = True\n",
    "    for i in range(6):\n",
    "        if not allEqual(cube.cube[i]):\n",
    "            solved = False\n",
    "    return solved"
   ]
  },
  {
   "cell_type": "code",
   "execution_count": null,
   "id": "6142cfdd",
   "metadata": {},
   "outputs": [],
   "source": [
    "class cube:\n",
    "    def __init__(self, size):\n",
    "        self.size = size\n",
    "        self.cube = solvedCube(size)\n",
    "\n",
    "        self.colors = {\n",
    "                0: \"white\",\n",
    "                1: \"blue\",\n",
    "                2: \"orange\",\n",
    "                3: \"green\",\n",
    "                4: \"red\",\n",
    "                5: \"yellow\"\n",
    "            }\n",
    "\n",
    "    def drawCube(self):\n",
    "        #define Matplotlib figure and axis\n",
    "        fig, ax = plt.subplots()\n",
    "        \n",
    "        #function to draw one of the faces\n",
    "        def fillRect(x, y, val, face):\n",
    "            ax.add_patch(Rectangle((x, y), .25, .25, facecolor = \"white\", edgecolor = \"black\"))\n",
    "            for i in range(self.size):\n",
    "                xVal = x + (.25 / self.size * i)\n",
    "                for j in range(self.size):\n",
    "                    yVal = y + (.25 / self.size * (self.size-j-1))\n",
    "                    ax.add_patch(Rectangle((xVal, yVal), .25/self.size, .25/self.size, \n",
    "                                           facecolor = self.colors[face[j][i]]))\n",
    "\n",
    "        #draw all the faces\n",
    "        fillRect(.25, .25, 0, self.cube[0])\n",
    "        fillRect(.25, 0, 1, self.cube[1])\n",
    "        fillRect(.5, .25, 2, np.rot90(self.cube[2], k=1))\n",
    "        fillRect(.25, .5, 3, np.rot90(self.cube[3], k=2))\n",
    "        fillRect(0, .25, 4, np.rot90(self.cube[4], k=3))\n",
    "        fillRect(.75, .25, 5, self.cube[5])\n",
    "\n",
    "        plt.show()\n",
    "    \n",
    "    def makeMove(self, index):\n",
    "        #rotates on the index couting from the top\n",
    "        if index == 0:\n",
    "            self.cube[0] = np.rot90(self.cube[0])\n",
    "        elif index == self.size-1:\n",
    "            self.cube[5] = np.rot90(self.cube[5], k=3)\n",
    "        #in all cases make rotation at specified index\n",
    "        temp = copy.copy(self.cube[4][index])\n",
    "        self.cube[4][index] = self.cube[3][index]\n",
    "        self.cube[3][index] = self.cube[2][index]\n",
    "        self.cube[2][index] = self.cube[1][index]\n",
    "        self.cube[1][index] = temp\n",
    "\n",
    "    def turnCube(self, up):\n",
    "        if up:\n",
    "            #side rotations\n",
    "            self.cube[0] = np.rot90(self.cube[0], k=2)\n",
    "            self.cube[2] = np.rot90(self.cube[2], k=3)\n",
    "            self.cube[4] = np.rot90(self.cube[4], k=1)\n",
    "            self.cube[5] = np.rot90(self.cube[5], k=2)   \n",
    "            #big rotate\n",
    "            self.cube = np.array([self.cube[1], self.cube[5], self.cube[2], self.cube[0], self.cube[4], self.cube[3]])\n",
    "        else:\n",
    "            #turn left\n",
    "            #side rotations\n",
    "            self.cube[0] = np.rot90(self.cube[0], k=1)\n",
    "            self.cube[1] = np.rot90(self.cube[1], k=1)\n",
    "            self.cube[2] = np.rot90(self.cube[2], k=1)\n",
    "            self.cube[3] = np.rot90(self.cube[3], k=3) \n",
    "            self.cube[4] = np.rot90(self.cube[4], k=3)\n",
    "            self.cube[5] = np.rot90(self.cube[5], k=3)\n",
    "            #big rotate\n",
    "            self.cube = np.array([self.cube[2], self.cube[1], self.cube[5], self.cube[3], self.cube[0], self.cube[4]])"
   ]
  },
  {
   "cell_type": "code",
   "execution_count": null,
   "id": "55e9ed21d8b5929f",
   "metadata": {
    "collapsed": false
   },
   "outputs": [],
   "source": [
    "class RubixCubeEnv(Env):\n",
    "    def __init__(self, size):\n",
    "        self.action_space = Discrete(size+2)\n",
    "        self.cubeSize = size\n",
    "        self.cube = cube(size)\n",
    "        self.observation_space = np.zeros((self.cube.cube.shape))\n",
    "\n",
    "        mixCube(self.cube, 100)\n",
    "\n",
    "        self.maxLength = 200\n",
    "        self.length = 200\n",
    "\n",
    "    def step(self, action):\n",
    "        #perform action\n",
    "        if action == 0:\n",
    "            self.cube.turnCube(True)\n",
    "        elif action == 1:\n",
    "            self.cube.turnCube(False)\n",
    "        else:\n",
    "            self.cube.makeMove(action-2)\n",
    "\n",
    "        done = False\n",
    "\n",
    "        #check if cube is solved for rewards\n",
    "        if checkSolved(self.cube):\n",
    "            reward = 100\n",
    "            done = True\n",
    "        else:\n",
    "            reward = -1\n",
    "\n",
    "        #check if episode is over\n",
    "        if self.length <= 0:\n",
    "            done = True\n",
    "        \n",
    "        self.length -= 1\n",
    "\n",
    "        info = {}\n",
    "\n",
    "        return self.cube, reward, done, info\n",
    "\n",
    "    def render(self):\n",
    "        pass\n",
    "    def reset(self):\n",
    "        self.cube = cube(self.cubeSize)\n",
    "        mixCube(self.cube, 100)\n",
    "        self.length = self.maxLength\n",
    "        print(\"Here\", self.length)\n",
    "        return self.cube"
   ]
  },
  {
   "cell_type": "code",
   "execution_count": null,
   "id": "826fe4a1",
   "metadata": {},
   "outputs": [
    {
     "data": {
      "image/png": "[encoded data removed]",
      "text/plain": [
       "<Figure size 640x480 with 1 Axes>"
      ]
     },
     "metadata": {},
     "output_type": "display_data"
    },
    {
     "name": "stdout",
     "output_type": "stream",
     "text": [
      "(6, 3, 3)\n"
     ]
    }
   ],
   "source": [
    "testCube = cube(3)\n",
    "mixCube(testCube, 100)\n",
    "testCube.drawCube()\n",
    "print(testCube.cube.shape)"
   ]
  },
  {
   "cell_type": "code",
   "execution_count": null,
   "id": "7bc4c745",
   "metadata": {},
   "outputs": [],
   "source": [
    "modelSize = 3\n",
    "env = RubixCubeEnv(modelSize)"
   ]
  },
  {
   "cell_type": "code",
   "execution_count": null,
   "id": "c06f1897",
   "metadata": {},
   "outputs": [
    {
     "name": "stdout",
     "output_type": "stream",
     "text": [
      "Here 200\n",
      "0\n",
      "Episode: 0 Score: -201\n",
      "Here 200\n",
      "0\n",
      "Episode: 1 Score: -201\n",
      "Here 200\n",
      "0\n",
      "Episode: 2 Score: -201\n",
      "Here 200\n",
      "0\n",
      "Episode: 3 Score: -201\n",
      "Here 200\n",
      "0\n",
      "Episode: 4 Score: -201\n",
      "Here 200\n",
      "0\n",
      "Episode: 5 Score: -201\n",
      "Here 200\n",
      "0\n",
      "Episode: 6 Score: -201\n",
      "Here 200\n",
      "0\n",
      "Episode: 7 Score: -201\n",
      "Here 200\n",
      "0\n",
      "Episode: 8 Score: -201\n",
      "Here 200\n",
      "0\n",
      "Episode: 9 Score: -201\n"
     ]
    }
   ],
   "source": [
    "episodes = 10\n",
    "for episode in range(episodes):\n",
    "    state = env.reset()\n",
    "    done = False\n",
    "    score = 0\n",
    "    count = 0\n",
    "\n",
    "    while not done:\n",
    "        env.render()\n",
    "        action = env.action_space.sample()\n",
    "        curCube, reward, done, info = env.step(action)\n",
    "        score += reward\n",
    "        count + 1\n",
    "    print(count)\n",
    "    print(\"Episode: {} Score: {}\".format(episode, score))\n",
    "    "
   ]
  },
  {
   "cell_type": "code",
   "execution_count": null,
   "id": "c37374b0cab2c4d0",
   "metadata": {
    "collapsed": false
   },
   "outputs": [],
   "source": [
    "from tensorflow.keras.models import Sequential\n",
    "from tensorflow.keras.layers import Dense, Flatten\n",
    "from tensorflow.keras.optimizers import SGD"
   ]
  },
  {
   "cell_type": "code",
   "execution_count": null,
   "id": "965bf337",
   "metadata": {},
   "outputs": [],
   "source": [
    "def buildModel(states, actions):\n",
    "    model = Sequential()\n",
    "    model.add(Flatten(input_shape=(6, modelSize, modelSize)))\n",
    "    model.add(Dense(24, activation='relu', input_shape = states))\n",
    "    model.add(Dense(24, activation='relu'))\n",
    "    model.add(Dense(actions, activation='linear'))\n",
    "    return model"
   ]
  },
  {
   "cell_type": "code",
   "execution_count": null,
   "id": "5bcb175c",
   "metadata": {},
   "outputs": [
    {
     "name": "stdout",
     "output_type": "stream",
     "text": [
      "Model: \"sequential_9\"\n",
      "_________________________________________________________________\n",
      " Layer (type)                Output Shape              Param #   \n",
      "=================================================================\n",
      " flatten_9 (Flatten)         (None, 54)                0         \n",
      "                                                                 \n",
      " dense_27 (Dense)            (None, 24)                1320      \n",
      "                                                                 \n",
      " dense_28 (Dense)            (None, 24)                600       \n",
      "                                                                 \n",
      " dense_29 (Dense)            (None, 5)                 125       \n",
      "                                                                 \n",
      "=================================================================\n",
      "Total params: 2,045\n",
      "Trainable params: 2,045\n",
      "Non-trainable params: 0\n",
      "_________________________________________________________________\n"
     ]
    }
   ],
   "source": [
    "states = env.observation_space.shape\n",
    "actions = env.action_space.n\n",
    "model = buildModel(states, actions)\n",
    "model.summary()"
   ]
  },
  {
   "cell_type": "code",
   "execution_count": null,
   "id": "e4f2c5f7",
   "metadata": {},
   "outputs": [],
   "source": [
    "from rl.agents import DQNAgent\n",
    "from rl.policy import BoltzmannQPolicy\n",
    "from rl.memory import SequentialMemory"
   ]
  },
  {
   "cell_type": "code",
   "execution_count": 7,
   "id": "5e1272f4",
   "metadata": {},
   "outputs": [],
   "source": [
    "def build_agent(model, actions):\n",
    "    policy = BoltzmannQPolicy()\n",
    "    memory = SequentialMemory(limit=50000, window_length=1)\n",
    "    dqn = DQNAgent(model=model, memory=memory, policy=policy, nb_actions=actions, nb_steps_warmup=10, target_model_update=1e-2)\n",
    "    return dqn"
   ]
  },
  {
   "cell_type": "code",
   "execution_count": 8,
   "id": "a0fcd128",
   "metadata": {},
   "outputs": [
    {
     "ename": "NameError",
     "evalue": "name 'model' is not defined",
     "output_type": "error",
     "traceback": [
      "\u001b[0;31m---------------------------------------------------------------------------\u001b[0m",
      "\u001b[0;31mNameError\u001b[0m                                 Traceback (most recent call last)",
      "Cell \u001b[0;32mIn[8], line 1\u001b[0m\n\u001b[0;32m----> 1\u001b[0m dqn \u001b[38;5;241m=\u001b[39m build_agent(\u001b[43mmodel\u001b[49m, actions)\n\u001b[1;32m      2\u001b[0m dqn\u001b[38;5;241m.\u001b[39mcompile(SGD(learning_rate\u001b[38;5;241m=\u001b[39m\u001b[38;5;241m1e-3\u001b[39m), metrics\u001b[38;5;241m=\u001b[39m[\u001b[38;5;124m'\u001b[39m\u001b[38;5;124mmae\u001b[39m\u001b[38;5;124m'\u001b[39m])\n\u001b[1;32m      3\u001b[0m dqn\u001b[38;5;241m.\u001b[39mfit(env, nb_steps\u001b[38;5;241m=\u001b[39m\u001b[38;5;241m50000\u001b[39m, visualize\u001b[38;5;241m=\u001b[39m\u001b[38;5;28;01mFalse\u001b[39;00m, verbose\u001b[38;5;241m=\u001b[39m\u001b[38;5;241m1\u001b[39m)\n",
      "\u001b[0;31mNameError\u001b[0m: name 'model' is not defined"
     ]
    }
   ],
   "source": [
    "dqn = build_agent(model, actions)\n",
    "dqn.compile(SGD(learning_rate=1e-3), metrics=['mae'])\n",
    "dqn.fit(env, nb_steps=50000, visualize=False, verbose=1)"
   ]
  }
 ],
 "metadata": {
  "kernelspec": {
   "display_name": "Python 3",
   "language": "python",
   "name": "python3"
  },
  "language_info": {
   "codemirror_mode": {
    "name": "ipython",
    "version": 3
   },
   "file_extension": ".py",
   "mimetype": "text/x-python",
   "name": "python",
   "nbconvert_exporter": "python",
   "pygments_lexer": "ipython3",
   "version": "3.10.13"
  }
 },
 "nbformat": 4,
 "nbformat_minor": 5
}
